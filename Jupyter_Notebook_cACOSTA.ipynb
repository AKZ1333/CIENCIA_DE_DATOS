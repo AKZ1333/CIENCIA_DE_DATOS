{
 "cells": [
  {
   "cell_type": "markdown",
   "metadata": {},
   "source": [
    "<center>\n",
    "    <img src=\"https://cf-courses-data.s3.us.cloud-object-storage.appdomain.cloud/IBMDeveloperSkillsNetwork-DS0105EN-SkillsNetwork/labs/Module2/images/SN_web_lightmode.png\" width=\"300\" alt=\"cognitiveclass.ai logo\">\n",
    "</center>\n"
   ]
  },
  {
   "cell_type": "markdown",
   "metadata": {},
   "source": [
    "#### Add your code below following the instructions given in the course\n"
   ]
  },
  {
   "cell_type": "markdown",
   "metadata": {},
   "source": [
    "# Cuaderno de Introducción a la Ciencia de Datos"
   ]
  },
  {
   "cell_type": "markdown",
   "metadata": {},
   "source": [
    "## Introducción a la Ciencia de Datos\n",
    "\n",
    "Este cuaderno Jupyterlite está diseñado como un proyecto final para el curso de introducción a la Ciencia de Datos. Aquí exploraremos conceptos fundamentales, herramientas clave y ejemplos básicos de programación utilizados en este emocionante campo. La Ciencia de Datos es un campo interdisciplinario que utiliza métodos científicos, procesos, algoritmos y sistemas para extraer conocimiento y perspicacia de datos estructurados y no estructurados."
   ]
  },
  {
   "cell_type": "markdown",
   "metadata": {},
   "source": [
    "### Lenguajes Comunes en la Ciencia de Datos\n",
    "\n",
    "A continuación, se presentan algunos de los lenguajes de programación más populares y utilizados en el ámbito de la Ciencia de Datos:\n",
    "\n",
    "* **Python:** Ampliamente utilizado por su simplicidad, versatilidad y una vasta colección de bibliotecas para análisis de datos, aprendizaje automático e inteligencia artificial.\n",
    "* **R:** Un lenguaje diseñado específicamente para la computación estadística y gráficos, muy popular entre estadísticos y científicos de datos para análisis exploratorios y visualización.\n",
    "* **SQL (Structured Query Language):** Fundamental para interactuar con bases de datos relacionales, permitiendo la extracción, manipulación y gestión de grandes volúmenes de datos.\n",
    "* **Julia:** Un lenguaje de alto rendimiento diseñado para la computación científica y numérica, buscando combinar la facilidad de uso de Python con la velocidad de C++.\n",
    "* **Scala:** Popular en el procesamiento de grandes volúmenes de datos (Big Data) gracias a su compatibilidad con frameworks como Apache Spark."
   ]
  },
  {
   "cell_type": "markdown",
   "metadata": {},
   "source": [
    "### Bibliotecas Clave en la Ciencia de Datos\n",
    "\n",
    "Las bibliotecas son conjuntos de funciones y herramientas preescritas que facilitan el desarrollo en Ciencia de Datos:\n",
    "\n",
    "* **Para Python:**\n",
    "    * **Pandas:** Para manipulación y análisis de datos, especialmente con estructuras de datos como DataFrames.\n",
    "    * **NumPy:** Fundamental para la computación numérica, proporcionando soporte para arrays y matrices.\n",
    "    * **Matplotlib:** Para la creación de visualizaciones estáticas, animadas e interactivas en Python.\n",
    "    * **Seaborn:** Basado en Matplotlib, ofrece una interfaz de alto nivel para dibujar gráficos estadísticos atractivos e informativos.\n",
    "    * **Scikit-learn:** Una biblioteca robusta para aprendizaje automático, que incluye algoritmos de clasificación, regresión, clustering y más.\n",
    "    * **TensorFlow / Keras / PyTorch:** Para el desarrollo de modelos de aprendizaje profundo.\n",
    "* **Para R:**\n",
    "    * **dplyr:** Para manipulación de datos.\n",
    "    * **ggplot2:** Para visualización de datos.\n",
    "    * **caret:** Para el modelado de aprendizaje automático.\n",
    "* **Para SQL:**\n",
    "    * Aunque SQL no tiene \"bibliotecas\" en el mismo sentido que Python o R, su funcionalidad se extiende a través de extensiones de bases de datos o características específicas del proveedor (ej., funciones analíticas, extensiones geoespaciales)."
   ]
  },
  {
   "cell_type": "markdown",
   "metadata": {},
   "source": [
    "### Herramientas de la Ciencia de Datos\n",
    "\n",
    "Las herramientas utilizadas en la Ciencia de Datos son variadas y se adaptan a diferentes fases del proceso:\n",
    "\n",
    "| Categoría de Herramienta | Ejemplos de Herramientas                   | Propósito Principal                                     |\n",
    "| :----------------------- | :----------------------------------------- | :------------------------------------------------------ |\n",
    "| **Entornos de Desarrollo** | Jupyter Notebook, RStudio, VS Code         | Interfaz para escribir y ejecutar código y análisis.    |\n",
    "| **Bases de Datos** | MySQL, PostgreSQL, MongoDB, Cassandra     | Almacenamiento y gestión de grandes volúmenes de datos. |\n",
    "| **Plataformas Cloud** | AWS Sagemaker, Google Cloud AI Platform, Azure Machine Learning | Infraestructura y servicios para construir y desplegar modelos ML. |\n",
    "| **Herramientas de Big Data** | Apache Spark, Apache Hadoop, Apache Kafka | Procesamiento y análisis de datos a gran escala.        |\n",
    "| **Visualización** | Tableau, Power BI, D3.js                   | Creación de gráficos interactivos y cuadros de mando.   |\n",
    "| **Control de Versiones** | Git, GitHub, GitLab                        | Gestión de cambios en el código y colaboración en equipo. |"
   ]
  },
  {
   "cell_type": "markdown",
   "metadata": {},
   "source": [
    "### Ejemplos de Expresiones Aritméticas\n",
    "\n",
    "Las expresiones aritméticas son combinaciones de números, operadores aritméticos (como suma, resta, multiplicación, división) y paréntesis que se evalúan para obtener un valor numérico. Son fundamentales en cualquier cálculo de Ciencia de Datos.\n",
    "\n",
    "**Ejemplos:**\n",
    "* `2 + 3` (Suma)\n",
    "* `10 - 4` (Resta)\n",
    "* `5 * 6` (Multiplicación)\n",
    "* `20 / 4` (División)\n",
    "* `(2 + 3) * 4` (Uso de paréntesis para alterar el orden de las operaciones)"
   ]
  },
  {
   "cell_type": "markdown",
   "metadata": {},
   "source": [
    "# Multiplicar dos números\n",
    "num1 = 10\n",
    "num2 = 5\n",
    "resultado_multiplicacion = num1 * num2\n",
    "print(f\"El resultado de la multiplicación es: {resultado_multiplicacion}\")\n",
    "\n",
    "# Sumar dos números\n",
    "num3 = 25\n",
    "num4 = 15\n",
    "resultado_suma = num3 + num4\n",
    "print(f\"El resultado de la suma es: {resultado_suma}\")"
   ]
  },
  {
   "cell_type": "markdown",
   "metadata": {},
   "source": [
    "# Función para convertir minutos a horas\n",
    "def minutos_a_horas(minutos):\n",
    "    horas = minutos / 60\n",
    "    return horas\n",
    "\n",
    "# Ejemplo de uso\n",
    "minutos_dados = 180\n",
    "horas_calculadas = minutos_a_horas(minutos_dados)\n",
    "print(f\"{minutos_dados} minutos equivalen a {horas_calculadas} horas.\")\n",
    "\n",
    "minutos_ejemplo_2 = 90\n",
    "horas_ejemplo_2 = minutos_a_horas(minutos_ejemplo_2)\n",
    "print(f\"{minutos_ejemplo_2} minutos equivalen a {horas_ejemplo_2} horas.\")"
   ]
  },
  {
   "cell_type": "markdown",
   "metadata": {},
   "source": [
    "print(\"Objetivos de este Cuaderno:\")\n",
    "print(\"- Introducir conceptos básicos de la Ciencia de Datos.\")\n",
    "print(\"- Listar lenguajes y bibliotecas comunes en el campo.\")\n",
    "print(\"- Presentar herramientas fundamentales para el análisis de datos.\")\n",
    "print(\"- Demostrar operaciones aritméticas y conversiones de unidades en Python.\")\n",
    "print(\"- Reforzar el uso de Jupyterlite Notebook para proyectos de Ciencia de Datos.\")\n",
    "print(\"- Compartir el cuaderno de forma pública a través de GitHub.\")"
   ]
  },
  {
   "cell_type": "markdown",
   "metadata": {},
   "source": [
    "### Autor\n",
    "\n",
    "Este cuaderno fue creado por: **[CARLOS ALBERTO ACOSTA M COLOMBIA :)]**"
   ]
  },
  {
   "cell_type": "code",
   "execution_count": null,
   "metadata": {},
   "outputs": [],
   "source": []
  }
 ],
 "metadata": {
  "kernelspec": {
   "display_name": "Python 3 (ipykernel)",
   "language": "python",
   "name": "python3"
  },
  "language_info": {
   "codemirror_mode": {
    "name": "ipython",
    "version": 3
   },
   "file_extension": ".py",
   "mimetype": "text/x-python",
   "name": "python",
   "nbconvert_exporter": "python",
   "pygments_lexer": "ipython3",
   "version": "3.12.8"
  }
 },
 "nbformat": 4,
 "nbformat_minor": 4
}
